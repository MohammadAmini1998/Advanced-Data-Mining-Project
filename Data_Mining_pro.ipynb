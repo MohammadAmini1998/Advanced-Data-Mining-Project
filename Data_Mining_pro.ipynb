{
  "cells": [
    {
      "cell_type": "code",
      "execution_count": 1,
      "metadata": {
        "colab": {
          "base_uri": "https://localhost:8080/"
        },
        "id": "-UskWUThoYw8",
        "outputId": "375c901e-5bb6-4b3c-80cc-2682ab436751"
      },
      "outputs": [
        {
          "output_type": "stream",
          "name": "stdout",
          "text": [
            "Reading package lists... Done\n",
            "Building dependency tree       \n",
            "Reading state information... Done\n",
            "p7zip-full is already the newest version (16.02+dfsg-7build1).\n",
            "0 upgraded, 0 newly installed, 0 to remove and 15 not upgraded.\n",
            "Collecting py7zr\n",
            "  Downloading py7zr-0.20.5-py3-none-any.whl (66 kB)\n",
            "\u001b[2K     \u001b[90m━━━━━━━━━━━━━━━━━━━━━━━━━━━━━━━━━━━━━━━━\u001b[0m \u001b[32m66.4/66.4 kB\u001b[0m \u001b[31m2.9 MB/s\u001b[0m eta \u001b[36m0:00:00\u001b[0m\n",
            "\u001b[?25hCollecting texttable (from py7zr)\n",
            "  Downloading texttable-1.6.7-py2.py3-none-any.whl (10 kB)\n",
            "Collecting pycryptodomex>=3.6.6 (from py7zr)\n",
            "  Downloading pycryptodomex-3.18.0-cp35-abi3-manylinux_2_17_x86_64.manylinux2014_x86_64.whl (2.1 MB)\n",
            "\u001b[2K     \u001b[90m━━━━━━━━━━━━━━━━━━━━━━━━━━━━━━━━━━━━━━━━\u001b[0m \u001b[32m2.1/2.1 MB\u001b[0m \u001b[31m29.2 MB/s\u001b[0m eta \u001b[36m0:00:00\u001b[0m\n",
            "\u001b[?25hCollecting pyzstd>=0.14.4 (from py7zr)\n",
            "  Downloading pyzstd-0.15.9-cp310-cp310-manylinux_2_17_x86_64.manylinux2014_x86_64.whl (412 kB)\n",
            "\u001b[2K     \u001b[90m━━━━━━━━━━━━━━━━━━━━━━━━━━━━━━━━━━━━━━\u001b[0m \u001b[32m412.3/412.3 kB\u001b[0m \u001b[31m22.4 MB/s\u001b[0m eta \u001b[36m0:00:00\u001b[0m\n",
            "\u001b[?25hCollecting pyppmd<1.1.0,>=0.18.1 (from py7zr)\n",
            "  Downloading pyppmd-1.0.0-cp310-cp310-manylinux_2_17_x86_64.manylinux2014_x86_64.whl (138 kB)\n",
            "\u001b[2K     \u001b[90m━━━━━━━━━━━━━━━━━━━━━━━━━━━━━━━━━━━━━━\u001b[0m \u001b[32m138.8/138.8 kB\u001b[0m \u001b[31m14.7 MB/s\u001b[0m eta \u001b[36m0:00:00\u001b[0m\n",
            "\u001b[?25hCollecting pybcj>=0.6.0 (from py7zr)\n",
            "  Downloading pybcj-1.0.1-cp310-cp310-manylinux_2_17_x86_64.manylinux2014_x86_64.whl (49 kB)\n",
            "\u001b[2K     \u001b[90m━━━━━━━━━━━━━━━━━━━━━━━━━━━━━━━━━━━━━━━━\u001b[0m \u001b[32m49.8/49.8 kB\u001b[0m \u001b[31m5.5 MB/s\u001b[0m eta \u001b[36m0:00:00\u001b[0m\n",
            "\u001b[?25hCollecting multivolumefile>=0.2.3 (from py7zr)\n",
            "  Downloading multivolumefile-0.2.3-py3-none-any.whl (17 kB)\n",
            "Collecting brotli>=1.0.9 (from py7zr)\n",
            "  Downloading Brotli-1.0.9-cp310-cp310-manylinux_2_5_x86_64.manylinux1_x86_64.manylinux_2_12_x86_64.manylinux2010_x86_64.whl (2.7 MB)\n",
            "\u001b[2K     \u001b[90m━━━━━━━━━━━━━━━━━━━━━━━━━━━━━━━━━━━━━━━━\u001b[0m \u001b[32m2.7/2.7 MB\u001b[0m \u001b[31m71.6 MB/s\u001b[0m eta \u001b[36m0:00:00\u001b[0m\n",
            "\u001b[?25hCollecting inflate64>=0.3.1 (from py7zr)\n",
            "  Downloading inflate64-0.3.1-cp310-cp310-manylinux_2_17_x86_64.manylinux2014_x86_64.whl (93 kB)\n",
            "\u001b[2K     \u001b[90m━━━━━━━━━━━━━━━━━━━━━━━━━━━━━━━━━━━━━━━━\u001b[0m \u001b[32m93.1/93.1 kB\u001b[0m \u001b[31m12.6 MB/s\u001b[0m eta \u001b[36m0:00:00\u001b[0m\n",
            "\u001b[?25hRequirement already satisfied: psutil in /usr/local/lib/python3.10/dist-packages (from py7zr) (5.9.5)\n",
            "Installing collected packages: texttable, brotli, pyzstd, pyppmd, pycryptodomex, pybcj, multivolumefile, inflate64, py7zr\n",
            "Successfully installed brotli-1.0.9 inflate64-0.3.1 multivolumefile-0.2.3 py7zr-0.20.5 pybcj-1.0.1 pycryptodomex-3.18.0 pyppmd-1.0.0 pyzstd-0.15.9 texttable-1.6.7\n"
          ]
        }
      ],
      "source": [
        " # Installing google colab and p7zip. p7zip is for unziping files in google colab.\n",
        " !pip install -q kaggle\n",
        " !apt-get install p7zip-full\n",
        " !pip install py7zr\n"
      ]
    },
    {
      "cell_type": "code",
      "execution_count": 2,
      "metadata": {
        "id": "tysizWOqbrZL"
      },
      "outputs": [],
      "source": [
        "#Importing necessary libriareis like pandas and nupy\n",
        "import pandas as pd\n",
        "import py7zr\n",
        "import os\n",
        "import numpy as np\n",
        "import shutil\n",
        "import torch\n",
        "import statistics\n",
        "from random import sample\n",
        "import torch\n",
        "import torch.nn as nn\n",
        "import torch.optim as optim\n",
        "import numpy as np\n",
        "import torchvision\n",
        "import torchvision.datasets as datasets\n",
        "import torchvision.models as models\n",
        "import torchvision.transforms as transforms\n",
        "from torch.utils.data import DataLoader\n",
        "import os\n",
        "import glob\n",
        "import matplotlib.pyplot as plt\n",
        "from PIL import Image\n",
        "import pandas as pd\n",
        "import shutil\n",
        "import warnings\n",
        "import statistics\n",
        "import numpy as np\n",
        "import matplotlib.pyplot as plt\n",
        "import torch.nn as nn\n",
        "import torch.optim as optim\n",
        "import torchvision.models as models\n",
        "import random\n",
        "import torch\n",
        "import torch.nn as nn\n",
        "import torchvision.models as models\n"
      ]
    },
    {
      "cell_type": "code",
      "execution_count": 3,
      "metadata": {
        "id": "fBdnklobqeyi"
      },
      "outputs": [],
      "source": [
        "!mkdir ~/.kaggle"
      ]
    },
    {
      "cell_type": "code",
      "execution_count": 4,
      "metadata": {
        "id": "jwgSOqF3qgU6"
      },
      "outputs": [],
      "source": [
        "! cp kaggle.json ~/.kaggle/"
      ]
    },
    {
      "cell_type": "code",
      "execution_count": 5,
      "metadata": {
        "id": "gUrQN5_jqkrZ"
      },
      "outputs": [],
      "source": [
        "! chmod 600 ~/.kaggle/kaggle.json"
      ]
    },
    {
      "cell_type": "code",
      "execution_count": 6,
      "metadata": {
        "id": "sVG6CX5LkS3e"
      },
      "outputs": [],
      "source": [
        "\n",
        "!mv kaggle.json ~/.kaggle/"
      ]
    },
    {
      "cell_type": "code",
      "execution_count": 7,
      "metadata": {
        "colab": {
          "base_uri": "https://localhost:8080/"
        },
        "id": "4QAW5wHUkXpE",
        "outputId": "05dafc8f-3b0b-47c1-eea9-25c962717690"
      },
      "outputs": [
        {
          "output_type": "stream",
          "name": "stdout",
          "text": [
            "Warning: Your Kaggle API key is readable by other users on this system! To fix this, you can run 'chmod 600 /root/.kaggle/kaggle.json'\n",
            "Downloading cifar-10.zip to /content\n",
            " 97% 697M/715M [00:06<00:00, 124MB/s]\n",
            "100% 715M/715M [00:06<00:00, 118MB/s]\n"
          ]
        }
      ],
      "source": [
        "!kaggle competitions download -c cifar-10"
      ]
    },
    {
      "cell_type": "code",
      "execution_count": 8,
      "metadata": {
        "colab": {
          "base_uri": "https://localhost:8080/"
        },
        "id": "5Q7ujIvA96RN",
        "outputId": "d1cfe2ac-aa03-48b0-a763-fecaf4be0785"
      },
      "outputs": [
        {
          "output_type": "stream",
          "name": "stdout",
          "text": [
            "Archive:  /content/cifar-10.zip\n",
            "  inflating: sampleSubmission.csv    \n",
            "  inflating: test.7z                 \n",
            "  inflating: train.7z                \n",
            "  inflating: trainLabels.csv         \n"
          ]
        }
      ],
      "source": [
        "! unzip /content/cifar-10.zip"
      ]
    },
    {
      "cell_type": "code",
      "execution_count": 9,
      "metadata": {
        "id": "5DAnFk3sic8_"
      },
      "outputs": [],
      "source": [
        "\n",
        "with py7zr.SevenZipFile('/content/train.7z', mode='r') as z:\n",
        "    z.extractall()\n",
        "\n",
        "# with py7zr.SevenZipFile('/content/test.7z', mode='r') as z:\n",
        "#     z.extractall()"
      ]
    },
    {
      "cell_type": "code",
      "execution_count": 10,
      "metadata": {
        "id": "oX-yRR9_b5eO"
      },
      "outputs": [],
      "source": [
        "labels=pd.read_csv(\"/content/trainLabels.csv\")"
      ]
    },
    {
      "cell_type": "code",
      "execution_count": 11,
      "metadata": {
        "colab": {
          "base_uri": "https://localhost:8080/",
          "height": 424
        },
        "id": "jXP9k-hxcOM9",
        "outputId": "ab0831fc-8e20-4202-8e0b-2f06b5f1dca8"
      },
      "outputs": [
        {
          "output_type": "execute_result",
          "data": {
            "text/plain": [
              "          id       label\n",
              "0          1        frog\n",
              "1          2       truck\n",
              "2          3       truck\n",
              "3          4        deer\n",
              "4          5  automobile\n",
              "...      ...         ...\n",
              "49995  49996        bird\n",
              "49996  49997        frog\n",
              "49997  49998       truck\n",
              "49998  49999  automobile\n",
              "49999  50000  automobile\n",
              "\n",
              "[50000 rows x 2 columns]"
            ],
            "text/html": [
              "\n",
              "\n",
              "  <div id=\"df-c9844a94-0dc5-46c1-8d14-420e87d6356e\">\n",
              "    <div class=\"colab-df-container\">\n",
              "      <div>\n",
              "<style scoped>\n",
              "    .dataframe tbody tr th:only-of-type {\n",
              "        vertical-align: middle;\n",
              "    }\n",
              "\n",
              "    .dataframe tbody tr th {\n",
              "        vertical-align: top;\n",
              "    }\n",
              "\n",
              "    .dataframe thead th {\n",
              "        text-align: right;\n",
              "    }\n",
              "</style>\n",
              "<table border=\"1\" class=\"dataframe\">\n",
              "  <thead>\n",
              "    <tr style=\"text-align: right;\">\n",
              "      <th></th>\n",
              "      <th>id</th>\n",
              "      <th>label</th>\n",
              "    </tr>\n",
              "  </thead>\n",
              "  <tbody>\n",
              "    <tr>\n",
              "      <th>0</th>\n",
              "      <td>1</td>\n",
              "      <td>frog</td>\n",
              "    </tr>\n",
              "    <tr>\n",
              "      <th>1</th>\n",
              "      <td>2</td>\n",
              "      <td>truck</td>\n",
              "    </tr>\n",
              "    <tr>\n",
              "      <th>2</th>\n",
              "      <td>3</td>\n",
              "      <td>truck</td>\n",
              "    </tr>\n",
              "    <tr>\n",
              "      <th>3</th>\n",
              "      <td>4</td>\n",
              "      <td>deer</td>\n",
              "    </tr>\n",
              "    <tr>\n",
              "      <th>4</th>\n",
              "      <td>5</td>\n",
              "      <td>automobile</td>\n",
              "    </tr>\n",
              "    <tr>\n",
              "      <th>...</th>\n",
              "      <td>...</td>\n",
              "      <td>...</td>\n",
              "    </tr>\n",
              "    <tr>\n",
              "      <th>49995</th>\n",
              "      <td>49996</td>\n",
              "      <td>bird</td>\n",
              "    </tr>\n",
              "    <tr>\n",
              "      <th>49996</th>\n",
              "      <td>49997</td>\n",
              "      <td>frog</td>\n",
              "    </tr>\n",
              "    <tr>\n",
              "      <th>49997</th>\n",
              "      <td>49998</td>\n",
              "      <td>truck</td>\n",
              "    </tr>\n",
              "    <tr>\n",
              "      <th>49998</th>\n",
              "      <td>49999</td>\n",
              "      <td>automobile</td>\n",
              "    </tr>\n",
              "    <tr>\n",
              "      <th>49999</th>\n",
              "      <td>50000</td>\n",
              "      <td>automobile</td>\n",
              "    </tr>\n",
              "  </tbody>\n",
              "</table>\n",
              "<p>50000 rows × 2 columns</p>\n",
              "</div>\n",
              "      <button class=\"colab-df-convert\" onclick=\"convertToInteractive('df-c9844a94-0dc5-46c1-8d14-420e87d6356e')\"\n",
              "              title=\"Convert this dataframe to an interactive table.\"\n",
              "              style=\"display:none;\">\n",
              "\n",
              "  <svg xmlns=\"http://www.w3.org/2000/svg\" height=\"24px\"viewBox=\"0 0 24 24\"\n",
              "       width=\"24px\">\n",
              "    <path d=\"M0 0h24v24H0V0z\" fill=\"none\"/>\n",
              "    <path d=\"M18.56 5.44l.94 2.06.94-2.06 2.06-.94-2.06-.94-.94-2.06-.94 2.06-2.06.94zm-11 1L8.5 8.5l.94-2.06 2.06-.94-2.06-.94L8.5 2.5l-.94 2.06-2.06.94zm10 10l.94 2.06.94-2.06 2.06-.94-2.06-.94-.94-2.06-.94 2.06-2.06.94z\"/><path d=\"M17.41 7.96l-1.37-1.37c-.4-.4-.92-.59-1.43-.59-.52 0-1.04.2-1.43.59L10.3 9.45l-7.72 7.72c-.78.78-.78 2.05 0 2.83L4 21.41c.39.39.9.59 1.41.59.51 0 1.02-.2 1.41-.59l7.78-7.78 2.81-2.81c.8-.78.8-2.07 0-2.86zM5.41 20L4 18.59l7.72-7.72 1.47 1.35L5.41 20z\"/>\n",
              "  </svg>\n",
              "      </button>\n",
              "\n",
              "\n",
              "\n",
              "    <div id=\"df-4d0262c9-f33c-420a-9cc8-160203871bd9\">\n",
              "      <button class=\"colab-df-quickchart\" onclick=\"quickchart('df-4d0262c9-f33c-420a-9cc8-160203871bd9')\"\n",
              "              title=\"Suggest charts.\"\n",
              "              style=\"display:none;\">\n",
              "\n",
              "<svg xmlns=\"http://www.w3.org/2000/svg\" height=\"24px\"viewBox=\"0 0 24 24\"\n",
              "     width=\"24px\">\n",
              "    <g>\n",
              "        <path d=\"M19 3H5c-1.1 0-2 .9-2 2v14c0 1.1.9 2 2 2h14c1.1 0 2-.9 2-2V5c0-1.1-.9-2-2-2zM9 17H7v-7h2v7zm4 0h-2V7h2v10zm4 0h-2v-4h2v4z\"/>\n",
              "    </g>\n",
              "</svg>\n",
              "      </button>\n",
              "    </div>\n",
              "\n",
              "<style>\n",
              "  .colab-df-quickchart {\n",
              "    background-color: #E8F0FE;\n",
              "    border: none;\n",
              "    border-radius: 50%;\n",
              "    cursor: pointer;\n",
              "    display: none;\n",
              "    fill: #1967D2;\n",
              "    height: 32px;\n",
              "    padding: 0 0 0 0;\n",
              "    width: 32px;\n",
              "  }\n",
              "\n",
              "  .colab-df-quickchart:hover {\n",
              "    background-color: #E2EBFA;\n",
              "    box-shadow: 0px 1px 2px rgba(60, 64, 67, 0.3), 0px 1px 3px 1px rgba(60, 64, 67, 0.15);\n",
              "    fill: #174EA6;\n",
              "  }\n",
              "\n",
              "  [theme=dark] .colab-df-quickchart {\n",
              "    background-color: #3B4455;\n",
              "    fill: #D2E3FC;\n",
              "  }\n",
              "\n",
              "  [theme=dark] .colab-df-quickchart:hover {\n",
              "    background-color: #434B5C;\n",
              "    box-shadow: 0px 1px 3px 1px rgba(0, 0, 0, 0.15);\n",
              "    filter: drop-shadow(0px 1px 2px rgba(0, 0, 0, 0.3));\n",
              "    fill: #FFFFFF;\n",
              "  }\n",
              "</style>\n",
              "\n",
              "    <script>\n",
              "      async function quickchart(key) {\n",
              "        const containerElement = document.querySelector('#' + key);\n",
              "        const charts = await google.colab.kernel.invokeFunction(\n",
              "            'suggestCharts', [key], {});\n",
              "      }\n",
              "    </script>\n",
              "\n",
              "      <script>\n",
              "\n",
              "function displayQuickchartButton(domScope) {\n",
              "  let quickchartButtonEl =\n",
              "    domScope.querySelector('#df-4d0262c9-f33c-420a-9cc8-160203871bd9 button.colab-df-quickchart');\n",
              "  quickchartButtonEl.style.display =\n",
              "    google.colab.kernel.accessAllowed ? 'block' : 'none';\n",
              "}\n",
              "\n",
              "        displayQuickchartButton(document);\n",
              "      </script>\n",
              "      <style>\n",
              "    .colab-df-container {\n",
              "      display:flex;\n",
              "      flex-wrap:wrap;\n",
              "      gap: 12px;\n",
              "    }\n",
              "\n",
              "    .colab-df-convert {\n",
              "      background-color: #E8F0FE;\n",
              "      border: none;\n",
              "      border-radius: 50%;\n",
              "      cursor: pointer;\n",
              "      display: none;\n",
              "      fill: #1967D2;\n",
              "      height: 32px;\n",
              "      padding: 0 0 0 0;\n",
              "      width: 32px;\n",
              "    }\n",
              "\n",
              "    .colab-df-convert:hover {\n",
              "      background-color: #E2EBFA;\n",
              "      box-shadow: 0px 1px 2px rgba(60, 64, 67, 0.3), 0px 1px 3px 1px rgba(60, 64, 67, 0.15);\n",
              "      fill: #174EA6;\n",
              "    }\n",
              "\n",
              "    [theme=dark] .colab-df-convert {\n",
              "      background-color: #3B4455;\n",
              "      fill: #D2E3FC;\n",
              "    }\n",
              "\n",
              "    [theme=dark] .colab-df-convert:hover {\n",
              "      background-color: #434B5C;\n",
              "      box-shadow: 0px 1px 3px 1px rgba(0, 0, 0, 0.15);\n",
              "      filter: drop-shadow(0px 1px 2px rgba(0, 0, 0, 0.3));\n",
              "      fill: #FFFFFF;\n",
              "    }\n",
              "  </style>\n",
              "\n",
              "      <script>\n",
              "        const buttonEl =\n",
              "          document.querySelector('#df-c9844a94-0dc5-46c1-8d14-420e87d6356e button.colab-df-convert');\n",
              "        buttonEl.style.display =\n",
              "          google.colab.kernel.accessAllowed ? 'block' : 'none';\n",
              "\n",
              "        async function convertToInteractive(key) {\n",
              "          const element = document.querySelector('#df-c9844a94-0dc5-46c1-8d14-420e87d6356e');\n",
              "          const dataTable =\n",
              "            await google.colab.kernel.invokeFunction('convertToInteractive',\n",
              "                                                     [key], {});\n",
              "          if (!dataTable) return;\n",
              "\n",
              "          const docLinkHtml = 'Like what you see? Visit the ' +\n",
              "            '<a target=\"_blank\" href=https://colab.research.google.com/notebooks/data_table.ipynb>data table notebook</a>'\n",
              "            + ' to learn more about interactive tables.';\n",
              "          element.innerHTML = '';\n",
              "          dataTable['output_type'] = 'display_data';\n",
              "          await google.colab.output.renderOutput(dataTable, element);\n",
              "          const docLink = document.createElement('div');\n",
              "          docLink.innerHTML = docLinkHtml;\n",
              "          element.appendChild(docLink);\n",
              "        }\n",
              "      </script>\n",
              "    </div>\n",
              "  </div>\n"
            ]
          },
          "metadata": {},
          "execution_count": 11
        }
      ],
      "source": [
        "labels"
      ]
    },
    {
      "cell_type": "code",
      "execution_count": 12,
      "metadata": {
        "id": "gicG9k4BcYm0",
        "colab": {
          "base_uri": "https://localhost:8080/"
        },
        "outputId": "f444dc94-d023-4fcd-861b-ae3847200555"
      },
      "outputs": [
        {
          "output_type": "stream",
          "name": "stdout",
          "text": [
            "['frog' 'truck' 'deer' 'automobile' 'bird' 'horse' 'ship' 'cat' 'dog'\n",
            " 'airplane']\n"
          ]
        }
      ],
      "source": [
        "unique_classes = labels['label'].unique()\n",
        "\n",
        "# Print the unique classes\n",
        "print(unique_classes)"
      ]
    },
    {
      "cell_type": "code",
      "execution_count": 13,
      "metadata": {
        "id": "4IsTH_Mvdr3K"
      },
      "outputs": [],
      "source": [
        "\n",
        "# Create the folders\n",
        "for folder_name in unique_classes:\n",
        "    folder_path = os.path.join('/content/dataset/train', folder_name)\n",
        "    os.makedirs(folder_path, exist_ok=True)\n",
        "    folder_path = os.path.join('/content/dataset/valid', folder_name)\n",
        "    os.makedirs(folder_path, exist_ok=True)"
      ]
    },
    {
      "cell_type": "code",
      "execution_count": 14,
      "metadata": {
        "id": "JQ1E-RnhewP_"
      },
      "outputs": [],
      "source": [
        "\n",
        "dataset_dir = '/content/train'\n",
        "parent_dir='/content/dataset/train'\n",
        "\n",
        "\n",
        "#Loop through the DataFrame and move each image to the corresponding class folder\n",
        "for pic in os.listdir(dataset_dir):\n",
        "    id=name_without_extension = pic[:-4]\n",
        "    label = labels[labels['id'] == int(id)]\n",
        "    label=label = label['label'].values[0]\n",
        "    destination=os.path.join(parent_dir,label)\n",
        "    src=os.path.join(dataset_dir,pic)\n",
        "    shutil.move(src,destination)\n"
      ]
    },
    {
      "cell_type": "code",
      "execution_count": 15,
      "metadata": {
        "id": "r38dWSfqcRsc"
      },
      "outputs": [],
      "source": [
        "train_dir='/content/dataset/train'\n",
        "valid_dir='/content/dataset/valid'"
      ]
    },
    {
      "cell_type": "code",
      "execution_count": 16,
      "metadata": {
        "id": "pCN2Ce1Ltimy"
      },
      "outputs": [],
      "source": [
        "\n",
        "\n",
        "warnings.filterwarnings('ignore')\n",
        "\n",
        "use_gpu = torch.cuda.is_available()\n",
        "np.random.seed(1234)"
      ]
    },
    {
      "cell_type": "code",
      "execution_count": 17,
      "metadata": {
        "colab": {
          "base_uri": "https://localhost:8080/"
        },
        "id": "LuhYLyPLcCTB",
        "outputId": "ec831bab-36a1-46ed-ab53-06026de28324"
      },
      "outputs": [
        {
          "output_type": "stream",
          "name": "stdout",
          "text": [
            "250\n",
            "250\n",
            "250\n",
            "250\n",
            "250\n",
            "250\n",
            "250\n",
            "250\n",
            "250\n",
            "250\n"
          ]
        }
      ],
      "source": [
        "for label in os.listdir(train_dir):\n",
        "  len_class=len(os.listdir(os.path.join(train_dir,label)))\n",
        "  number_of_valid=round(.05*len_class)\n",
        "  print(number_of_valid)\n",
        "  valid_data_per_class=sample(os.listdir(os.path.join(train_dir,label)), k=number_of_valid)\n",
        "  for pic in valid_data_per_class:\n",
        "      src=os.path.join(train_dir,label,pic)\n",
        "      destination=os.path.join(valid_dir,label)\n",
        "      shutil.move(src,destination)\n"
      ]
    },
    {
      "cell_type": "code",
      "execution_count": 18,
      "metadata": {
        "id": "XW_oIqqhtot5"
      },
      "outputs": [],
      "source": [
        "\n",
        "device = torch.device('cuda' if torch.cuda.is_available() else 'cpu')\n",
        "sz = 224\n",
        "batch_size = 32\n"
      ]
    },
    {
      "cell_type": "code",
      "execution_count": 19,
      "metadata": {
        "id": "2XRpWyPYw4lo"
      },
      "outputs": [],
      "source": [
        "tfms = transforms.Compose([\n",
        "    transforms.Resize((sz//2, sz//2)),  # Resize the images to half the size\n",
        "    transforms.ToTensor(),        # Tensor\n",
        "    transforms.Normalize([0.485, 0.456, 0.406], [0.229, 0.224, 0.225])\n",
        "])\n"
      ]
    },
    {
      "cell_type": "code",
      "execution_count": 20,
      "metadata": {
        "id": "fq--RxONvAIa"
      },
      "outputs": [],
      "source": [
        "train_ds = datasets.ImageFolder(train_dir,tfms)\n",
        "valid_ds = datasets.ImageFolder(valid_dir,tfms)\n",
        "\n",
        "\n"
      ]
    },
    {
      "cell_type": "code",
      "execution_count": 21,
      "metadata": {
        "id": "u_zZc3NzxNTx"
      },
      "outputs": [],
      "source": [
        "train_dl = torch.utils.data.DataLoader(train_ds,\n",
        "                                       batch_size=batch_size,\n",
        "                                       shuffle=True,\n",
        "                                       num_workers=8)\n",
        "val_dl = torch.utils.data.DataLoader(valid_ds,\n",
        "                                       batch_size=batch_size,\n",
        "                                       shuffle=True,\n",
        "                                       num_workers=8)\n"
      ]
    },
    {
      "cell_type": "code",
      "execution_count": 22,
      "metadata": {
        "id": "HwkP4If7wx1u",
        "colab": {
          "base_uri": "https://localhost:8080/"
        },
        "outputId": "a68f9d07-d3b0-4419-f8ea-5a652f7c72d4"
      },
      "outputs": [
        {
          "output_type": "stream",
          "name": "stderr",
          "text": [
            "Downloading: \"https://download.pytorch.org/models/wide_resnet50_2-95faca4d.pth\" to /root/.cache/torch/hub/checkpoints/wide_resnet50_2-95faca4d.pth\n",
            "100%|██████████| 132M/132M [00:01<00:00, 82.2MB/s]\n"
          ]
        },
        {
          "output_type": "execute_result",
          "data": {
            "text/plain": [
              "Sequential(\n",
              "  (0): Conv2d(3, 64, kernel_size=(7, 7), stride=(2, 2), padding=(3, 3), bias=False)\n",
              "  (1): BatchNorm2d(64, eps=1e-05, momentum=0.1, affine=True, track_running_stats=True)\n",
              "  (2): ReLU(inplace=True)\n",
              "  (3): MaxPool2d(kernel_size=3, stride=2, padding=1, dilation=1, ceil_mode=False)\n",
              "  (4): Sequential(\n",
              "    (0): Bottleneck(\n",
              "      (conv1): Conv2d(64, 128, kernel_size=(1, 1), stride=(1, 1), bias=False)\n",
              "      (bn1): BatchNorm2d(128, eps=1e-05, momentum=0.1, affine=True, track_running_stats=True)\n",
              "      (conv2): Conv2d(128, 128, kernel_size=(3, 3), stride=(1, 1), padding=(1, 1), bias=False)\n",
              "      (bn2): BatchNorm2d(128, eps=1e-05, momentum=0.1, affine=True, track_running_stats=True)\n",
              "      (conv3): Conv2d(128, 256, kernel_size=(1, 1), stride=(1, 1), bias=False)\n",
              "      (bn3): BatchNorm2d(256, eps=1e-05, momentum=0.1, affine=True, track_running_stats=True)\n",
              "      (relu): ReLU(inplace=True)\n",
              "      (downsample): Sequential(\n",
              "        (0): Conv2d(64, 256, kernel_size=(1, 1), stride=(1, 1), bias=False)\n",
              "        (1): BatchNorm2d(256, eps=1e-05, momentum=0.1, affine=True, track_running_stats=True)\n",
              "      )\n",
              "    )\n",
              "    (1): Bottleneck(\n",
              "      (conv1): Conv2d(256, 128, kernel_size=(1, 1), stride=(1, 1), bias=False)\n",
              "      (bn1): BatchNorm2d(128, eps=1e-05, momentum=0.1, affine=True, track_running_stats=True)\n",
              "      (conv2): Conv2d(128, 128, kernel_size=(3, 3), stride=(1, 1), padding=(1, 1), bias=False)\n",
              "      (bn2): BatchNorm2d(128, eps=1e-05, momentum=0.1, affine=True, track_running_stats=True)\n",
              "      (conv3): Conv2d(128, 256, kernel_size=(1, 1), stride=(1, 1), bias=False)\n",
              "      (bn3): BatchNorm2d(256, eps=1e-05, momentum=0.1, affine=True, track_running_stats=True)\n",
              "      (relu): ReLU(inplace=True)\n",
              "    )\n",
              "    (2): Bottleneck(\n",
              "      (conv1): Conv2d(256, 128, kernel_size=(1, 1), stride=(1, 1), bias=False)\n",
              "      (bn1): BatchNorm2d(128, eps=1e-05, momentum=0.1, affine=True, track_running_stats=True)\n",
              "      (conv2): Conv2d(128, 128, kernel_size=(3, 3), stride=(1, 1), padding=(1, 1), bias=False)\n",
              "      (bn2): BatchNorm2d(128, eps=1e-05, momentum=0.1, affine=True, track_running_stats=True)\n",
              "      (conv3): Conv2d(128, 256, kernel_size=(1, 1), stride=(1, 1), bias=False)\n",
              "      (bn3): BatchNorm2d(256, eps=1e-05, momentum=0.1, affine=True, track_running_stats=True)\n",
              "      (relu): ReLU(inplace=True)\n",
              "    )\n",
              "  )\n",
              "  (5): Sequential(\n",
              "    (0): Bottleneck(\n",
              "      (conv1): Conv2d(256, 256, kernel_size=(1, 1), stride=(1, 1), bias=False)\n",
              "      (bn1): BatchNorm2d(256, eps=1e-05, momentum=0.1, affine=True, track_running_stats=True)\n",
              "      (conv2): Conv2d(256, 256, kernel_size=(3, 3), stride=(2, 2), padding=(1, 1), bias=False)\n",
              "      (bn2): BatchNorm2d(256, eps=1e-05, momentum=0.1, affine=True, track_running_stats=True)\n",
              "      (conv3): Conv2d(256, 512, kernel_size=(1, 1), stride=(1, 1), bias=False)\n",
              "      (bn3): BatchNorm2d(512, eps=1e-05, momentum=0.1, affine=True, track_running_stats=True)\n",
              "      (relu): ReLU(inplace=True)\n",
              "      (downsample): Sequential(\n",
              "        (0): Conv2d(256, 512, kernel_size=(1, 1), stride=(2, 2), bias=False)\n",
              "        (1): BatchNorm2d(512, eps=1e-05, momentum=0.1, affine=True, track_running_stats=True)\n",
              "      )\n",
              "    )\n",
              "    (1): Bottleneck(\n",
              "      (conv1): Conv2d(512, 256, kernel_size=(1, 1), stride=(1, 1), bias=False)\n",
              "      (bn1): BatchNorm2d(256, eps=1e-05, momentum=0.1, affine=True, track_running_stats=True)\n",
              "      (conv2): Conv2d(256, 256, kernel_size=(3, 3), stride=(1, 1), padding=(1, 1), bias=False)\n",
              "      (bn2): BatchNorm2d(256, eps=1e-05, momentum=0.1, affine=True, track_running_stats=True)\n",
              "      (conv3): Conv2d(256, 512, kernel_size=(1, 1), stride=(1, 1), bias=False)\n",
              "      (bn3): BatchNorm2d(512, eps=1e-05, momentum=0.1, affine=True, track_running_stats=True)\n",
              "      (relu): ReLU(inplace=True)\n",
              "    )\n",
              "    (2): Bottleneck(\n",
              "      (conv1): Conv2d(512, 256, kernel_size=(1, 1), stride=(1, 1), bias=False)\n",
              "      (bn1): BatchNorm2d(256, eps=1e-05, momentum=0.1, affine=True, track_running_stats=True)\n",
              "      (conv2): Conv2d(256, 256, kernel_size=(3, 3), stride=(1, 1), padding=(1, 1), bias=False)\n",
              "      (bn2): BatchNorm2d(256, eps=1e-05, momentum=0.1, affine=True, track_running_stats=True)\n",
              "      (conv3): Conv2d(256, 512, kernel_size=(1, 1), stride=(1, 1), bias=False)\n",
              "      (bn3): BatchNorm2d(512, eps=1e-05, momentum=0.1, affine=True, track_running_stats=True)\n",
              "      (relu): ReLU(inplace=True)\n",
              "    )\n",
              "    (3): Bottleneck(\n",
              "      (conv1): Conv2d(512, 256, kernel_size=(1, 1), stride=(1, 1), bias=False)\n",
              "      (bn1): BatchNorm2d(256, eps=1e-05, momentum=0.1, affine=True, track_running_stats=True)\n",
              "      (conv2): Conv2d(256, 256, kernel_size=(3, 3), stride=(1, 1), padding=(1, 1), bias=False)\n",
              "      (bn2): BatchNorm2d(256, eps=1e-05, momentum=0.1, affine=True, track_running_stats=True)\n",
              "      (conv3): Conv2d(256, 512, kernel_size=(1, 1), stride=(1, 1), bias=False)\n",
              "      (bn3): BatchNorm2d(512, eps=1e-05, momentum=0.1, affine=True, track_running_stats=True)\n",
              "      (relu): ReLU(inplace=True)\n",
              "    )\n",
              "  )\n",
              "  (6): Sequential(\n",
              "    (0): Bottleneck(\n",
              "      (conv1): Conv2d(512, 512, kernel_size=(1, 1), stride=(1, 1), bias=False)\n",
              "      (bn1): BatchNorm2d(512, eps=1e-05, momentum=0.1, affine=True, track_running_stats=True)\n",
              "      (conv2): Conv2d(512, 512, kernel_size=(3, 3), stride=(2, 2), padding=(1, 1), bias=False)\n",
              "      (bn2): BatchNorm2d(512, eps=1e-05, momentum=0.1, affine=True, track_running_stats=True)\n",
              "      (conv3): Conv2d(512, 1024, kernel_size=(1, 1), stride=(1, 1), bias=False)\n",
              "      (bn3): BatchNorm2d(1024, eps=1e-05, momentum=0.1, affine=True, track_running_stats=True)\n",
              "      (relu): ReLU(inplace=True)\n",
              "      (downsample): Sequential(\n",
              "        (0): Conv2d(512, 1024, kernel_size=(1, 1), stride=(2, 2), bias=False)\n",
              "        (1): BatchNorm2d(1024, eps=1e-05, momentum=0.1, affine=True, track_running_stats=True)\n",
              "      )\n",
              "    )\n",
              "    (1): Bottleneck(\n",
              "      (conv1): Conv2d(1024, 512, kernel_size=(1, 1), stride=(1, 1), bias=False)\n",
              "      (bn1): BatchNorm2d(512, eps=1e-05, momentum=0.1, affine=True, track_running_stats=True)\n",
              "      (conv2): Conv2d(512, 512, kernel_size=(3, 3), stride=(1, 1), padding=(1, 1), bias=False)\n",
              "      (bn2): BatchNorm2d(512, eps=1e-05, momentum=0.1, affine=True, track_running_stats=True)\n",
              "      (conv3): Conv2d(512, 1024, kernel_size=(1, 1), stride=(1, 1), bias=False)\n",
              "      (bn3): BatchNorm2d(1024, eps=1e-05, momentum=0.1, affine=True, track_running_stats=True)\n",
              "      (relu): ReLU(inplace=True)\n",
              "    )\n",
              "    (2): Bottleneck(\n",
              "      (conv1): Conv2d(1024, 512, kernel_size=(1, 1), stride=(1, 1), bias=False)\n",
              "      (bn1): BatchNorm2d(512, eps=1e-05, momentum=0.1, affine=True, track_running_stats=True)\n",
              "      (conv2): Conv2d(512, 512, kernel_size=(3, 3), stride=(1, 1), padding=(1, 1), bias=False)\n",
              "      (bn2): BatchNorm2d(512, eps=1e-05, momentum=0.1, affine=True, track_running_stats=True)\n",
              "      (conv3): Conv2d(512, 1024, kernel_size=(1, 1), stride=(1, 1), bias=False)\n",
              "      (bn3): BatchNorm2d(1024, eps=1e-05, momentum=0.1, affine=True, track_running_stats=True)\n",
              "      (relu): ReLU(inplace=True)\n",
              "    )\n",
              "    (3): Bottleneck(\n",
              "      (conv1): Conv2d(1024, 512, kernel_size=(1, 1), stride=(1, 1), bias=False)\n",
              "      (bn1): BatchNorm2d(512, eps=1e-05, momentum=0.1, affine=True, track_running_stats=True)\n",
              "      (conv2): Conv2d(512, 512, kernel_size=(3, 3), stride=(1, 1), padding=(1, 1), bias=False)\n",
              "      (bn2): BatchNorm2d(512, eps=1e-05, momentum=0.1, affine=True, track_running_stats=True)\n",
              "      (conv3): Conv2d(512, 1024, kernel_size=(1, 1), stride=(1, 1), bias=False)\n",
              "      (bn3): BatchNorm2d(1024, eps=1e-05, momentum=0.1, affine=True, track_running_stats=True)\n",
              "      (relu): ReLU(inplace=True)\n",
              "    )\n",
              "    (4): Bottleneck(\n",
              "      (conv1): Conv2d(1024, 512, kernel_size=(1, 1), stride=(1, 1), bias=False)\n",
              "      (bn1): BatchNorm2d(512, eps=1e-05, momentum=0.1, affine=True, track_running_stats=True)\n",
              "      (conv2): Conv2d(512, 512, kernel_size=(3, 3), stride=(1, 1), padding=(1, 1), bias=False)\n",
              "      (bn2): BatchNorm2d(512, eps=1e-05, momentum=0.1, affine=True, track_running_stats=True)\n",
              "      (conv3): Conv2d(512, 1024, kernel_size=(1, 1), stride=(1, 1), bias=False)\n",
              "      (bn3): BatchNorm2d(1024, eps=1e-05, momentum=0.1, affine=True, track_running_stats=True)\n",
              "      (relu): ReLU(inplace=True)\n",
              "    )\n",
              "    (5): Bottleneck(\n",
              "      (conv1): Conv2d(1024, 512, kernel_size=(1, 1), stride=(1, 1), bias=False)\n",
              "      (bn1): BatchNorm2d(512, eps=1e-05, momentum=0.1, affine=True, track_running_stats=True)\n",
              "      (conv2): Conv2d(512, 512, kernel_size=(3, 3), stride=(1, 1), padding=(1, 1), bias=False)\n",
              "      (bn2): BatchNorm2d(512, eps=1e-05, momentum=0.1, affine=True, track_running_stats=True)\n",
              "      (conv3): Conv2d(512, 1024, kernel_size=(1, 1), stride=(1, 1), bias=False)\n",
              "      (bn3): BatchNorm2d(1024, eps=1e-05, momentum=0.1, affine=True, track_running_stats=True)\n",
              "      (relu): ReLU(inplace=True)\n",
              "    )\n",
              "  )\n",
              "  (7): Sequential(\n",
              "    (0): Bottleneck(\n",
              "      (conv1): Conv2d(1024, 1024, kernel_size=(1, 1), stride=(1, 1), bias=False)\n",
              "      (bn1): BatchNorm2d(1024, eps=1e-05, momentum=0.1, affine=True, track_running_stats=True)\n",
              "      (conv2): Conv2d(1024, 1024, kernel_size=(3, 3), stride=(2, 2), padding=(1, 1), bias=False)\n",
              "      (bn2): BatchNorm2d(1024, eps=1e-05, momentum=0.1, affine=True, track_running_stats=True)\n",
              "      (conv3): Conv2d(1024, 2048, kernel_size=(1, 1), stride=(1, 1), bias=False)\n",
              "      (bn3): BatchNorm2d(2048, eps=1e-05, momentum=0.1, affine=True, track_running_stats=True)\n",
              "      (relu): ReLU(inplace=True)\n",
              "      (downsample): Sequential(\n",
              "        (0): Conv2d(1024, 2048, kernel_size=(1, 1), stride=(2, 2), bias=False)\n",
              "        (1): BatchNorm2d(2048, eps=1e-05, momentum=0.1, affine=True, track_running_stats=True)\n",
              "      )\n",
              "    )\n",
              "    (1): Bottleneck(\n",
              "      (conv1): Conv2d(2048, 1024, kernel_size=(1, 1), stride=(1, 1), bias=False)\n",
              "      (bn1): BatchNorm2d(1024, eps=1e-05, momentum=0.1, affine=True, track_running_stats=True)\n",
              "      (conv2): Conv2d(1024, 1024, kernel_size=(3, 3), stride=(1, 1), padding=(1, 1), bias=False)\n",
              "      (bn2): BatchNorm2d(1024, eps=1e-05, momentum=0.1, affine=True, track_running_stats=True)\n",
              "      (conv3): Conv2d(1024, 2048, kernel_size=(1, 1), stride=(1, 1), bias=False)\n",
              "      (bn3): BatchNorm2d(2048, eps=1e-05, momentum=0.1, affine=True, track_running_stats=True)\n",
              "      (relu): ReLU(inplace=True)\n",
              "    )\n",
              "    (2): Bottleneck(\n",
              "      (conv1): Conv2d(2048, 1024, kernel_size=(1, 1), stride=(1, 1), bias=False)\n",
              "      (bn1): BatchNorm2d(1024, eps=1e-05, momentum=0.1, affine=True, track_running_stats=True)\n",
              "      (conv2): Conv2d(1024, 1024, kernel_size=(3, 3), stride=(1, 1), padding=(1, 1), bias=False)\n",
              "      (bn2): BatchNorm2d(1024, eps=1e-05, momentum=0.1, affine=True, track_running_stats=True)\n",
              "      (conv3): Conv2d(1024, 2048, kernel_size=(1, 1), stride=(1, 1), bias=False)\n",
              "      (bn3): BatchNorm2d(2048, eps=1e-05, momentum=0.1, affine=True, track_running_stats=True)\n",
              "      (relu): ReLU(inplace=True)\n",
              "    )\n",
              "  )\n",
              "  (8): AdaptiveAvgPool2d(output_size=(1, 1))\n",
              ")"
            ]
          },
          "metadata": {},
          "execution_count": 22
        }
      ],
      "source": [
        "\n",
        "\n",
        "# Load the pre-trained WideResNet model\n",
        "model = models.wide_resnet50_2(pretrained=True)\n",
        "\n",
        "# Remove the last layer from the model\n",
        "model = nn.Sequential(*list(model.children())[:-1])\n",
        "\n",
        "device = torch.device(\"cuda\" if torch.cuda.is_available() else \"cpu\")\n",
        "\n",
        "# Set the model to evaluation mode\n",
        "model.eval()\n",
        "\n",
        "model.to(device)\n",
        "\n",
        "\n",
        "\n"
      ]
    },
    {
      "cell_type": "code",
      "source": [
        "    # Extract features from the model for the training set\n",
        "train_features = []\n",
        "train_labels = []\n",
        "train_dl = torch.utils.data.DataLoader(train_ds,\n",
        "                                          batch_size=batch_size,\n",
        "                                          shuffle=True,\n",
        "                                          num_workers=8)\n",
        "\n",
        "for batch_idx, (data, target) in enumerate(train_dl):\n",
        "        data = data.to(device)\n",
        "        with torch.no_grad():\n",
        "            feature = model(data)\n",
        "        train_features.append(feature.cpu().numpy())\n",
        "        train_labels.append(target.numpy())\n",
        "\n",
        "train_features = np.concatenate(train_features, axis=0)\n",
        "train_labels = np.concatenate(train_labels, axis=0)"
      ],
      "metadata": {
        "id": "eh97h70yxCgT"
      },
      "execution_count": 23,
      "outputs": []
    },
    {
      "cell_type": "code",
      "source": [
        "valid_features = []\n",
        "valid_labels = []\n",
        "valid_dl = torch.utils.data.DataLoader(valid_ds,\n",
        "                                          batch_size=batch_size,\n",
        "                                          shuffle=True,\n",
        "                                          num_workers=8)\n",
        "\n",
        "for batch_idx, (data, target) in enumerate(valid_dl):\n",
        "        data = data.to(device)\n",
        "        with torch.no_grad():\n",
        "            feature = model(data)\n",
        "        valid_features.append(feature.cpu().numpy())\n",
        "        valid_labels.append(target.numpy())\n",
        "\n",
        "valid_features = np.concatenate(valid_features, axis=0)\n",
        "valid_labels = np.concatenate(valid_labels, axis=0)"
      ],
      "metadata": {
        "id": "dmEpfvUSxNX8"
      },
      "execution_count": 24,
      "outputs": []
    },
    {
      "cell_type": "code",
      "execution_count": 25,
      "metadata": {
        "id": "CPvRGTFxqUhO"
      },
      "outputs": [],
      "source": [
        "class Net(nn.Module):\n",
        "    def __init__(self, input_dim, hidden_dim, output_dim):\n",
        "        super(Net, self).__init__()\n",
        "        self.fc1 = nn.Linear(input_dim, hidden_dim)\n",
        "        self.fc2 = nn.Linear(hidden_dim, 32)\n",
        "        self.fc3 = nn.Linear(32, output_dim)\n",
        "        self.sigmoid = nn.Sigmoid()\n",
        "\n",
        "    def forward(self, x):\n",
        "        x = x.view(x.size(0), -1)\n",
        "        x = self.fc1(x)\n",
        "        x = self.sigmoid(x)\n",
        "        x = self.fc2(x)\n",
        "        x = self.sigmoid(x)\n",
        "        x = self.fc3(x)\n",
        "        x = self.sigmoid(x)\n",
        "\n",
        "        return x\n"
      ]
    },
    {
      "cell_type": "code",
      "source": [
        "\n",
        "\n",
        "def evaluate_model(model, features, labels, device):\n",
        "    model.eval()\n",
        "    val_loss = 0.0\n",
        "    corrects = 0\n",
        "    total_samples = 0\n",
        "\n",
        "    # Move the model and criterion to the GPU device\n",
        "    model.to(device)\n",
        "\n",
        "    with torch.no_grad():\n",
        "        for i in range(0, len(features), batch_size):\n",
        "            inputs = torch.from_numpy(features[i:i+batch_size]).float().to(device)\n",
        "            labels_inputs = labels[i:i+batch_size]\n",
        "            labels_inputs = torch.tensor(labels_inputs).to(device)\n",
        "            outputs = model(inputs)\n",
        "            loss = criterion(outputs, labels_inputs)\n",
        "\n",
        "            _, preds = torch.max(outputs, 1)\n",
        "            corrects += (preds == labels_inputs).sum().item()\n",
        "            total_samples += labels_inputs.size(0)\n",
        "\n",
        "    accuracy = 100.0 * corrects / total_samples\n",
        "    return accuracy"
      ],
      "metadata": {
        "id": "EmMONk-cM24S"
      },
      "execution_count": 26,
      "outputs": []
    },
    {
      "cell_type": "code",
      "source": [
        "\n",
        "\n",
        "def compute_proj(W):\n",
        "  # Calculate W transpose\n",
        "  WT = W.t()\n",
        "\n",
        "  # Compute W * W.t()\n",
        "  WWt = torch.matmul(W, WT)\n",
        "\n",
        "  # Calculate the inverse of WWt\n",
        "  inverse_WWt = torch.inverse(WWt)\n",
        "\n",
        "  # Compute the expression W.t() * inverse(W * W.t()) * W\n",
        "  result = torch.matmul(torch.matmul(WT, inverse_WWt), W)\n",
        "\n",
        "\n",
        "  return result\n"
      ],
      "metadata": {
        "id": "0aCC3u5dOpEB"
      },
      "execution_count": 27,
      "outputs": []
    },
    {
      "cell_type": "code",
      "source": [
        "def hook(module, input, output):\n",
        "    setattr(module, 'input_tensor', input[0])\n",
        "    input_copy = input[0].clone()\n",
        "    output_copy = output.clone()"
      ],
      "metadata": {
        "id": "unHk972KfRR6"
      },
      "execution_count": 28,
      "outputs": []
    },
    {
      "cell_type": "code",
      "source": [
        "def setatr(model):\n",
        "  for name, module in model.named_modules():\n",
        "      if isinstance(module, torch.nn.Linear):\n",
        "          module.register_forward_hook(hook)"
      ],
      "metadata": {
        "id": "GxdJxtgDfLtr"
      },
      "execution_count": 29,
      "outputs": []
    },
    {
      "cell_type": "code",
      "source": [
        "\n",
        "# Define the original list of classes\n",
        "classes = [0, 1, 2, 3, 4, 5, 6, 7, 8, 9]\n",
        "\n",
        "# Define a list to store the results\n",
        "Acc_without = []\n",
        "# Loop through the different combinations of class groupings\n",
        "for i in range(2, 10):\n",
        "    # Define the two arrays to hold the classes\n",
        "    known_classes = []\n",
        "    outlier_classes = []\n",
        "\n",
        "    # Randomly assign classes to the two arrays\n",
        "    for j in range(i):\n",
        "        known_classes.append(classes[j])\n",
        "    for j in range(i, 10):\n",
        "        outlier_classes.append(classes[j])\n",
        "\n",
        "    # Create a boolean mask to select the relevant samples\n",
        "    mask = np.isin(train_labels, known_classes)\n",
        "\n",
        "    # Select the relevant samples from the train_features and train_labels arrays\n",
        "    known_data = train_features[mask]\n",
        "    known_labels = train_labels[mask]\n",
        "\n",
        "    mask = np.isin(valid_labels, known_classes)\n",
        "\n",
        "    # Select the relevant samples from the valid_features and valid_labels arrays\n",
        "    known_data_valid = valid_features[mask]\n",
        "    known_labels_valid = valid_labels[mask]\n",
        "\n",
        "\n",
        "    # Train the network\n",
        "    input_dim = known_data.shape[1]\n",
        "    hidden_dim = 64\n",
        "    output_dim = len(known_classes)\n",
        "    lr = 1e-2\n",
        "    num_epochs = 10\n",
        "    batch_size = 128\n",
        "    net = Net(input_dim, hidden_dim, output_dim)\n",
        "\n",
        "    # Move the model and criterion to the GPU device\n",
        "    device = torch.device(\"cuda:0\" if torch.cuda.is_available() else \"cpu\")\n",
        "    net.to(device)\n",
        "    criterion = nn.CrossEntropyLoss().to(device)\n",
        "    optimizer = optim.Adam(net.parameters(), lr=lr)\n",
        "    losses = []\n",
        "\n",
        "    for epoch in range(num_epochs):\n",
        "        # Train the network\n",
        "        net.train()\n",
        "        num_batches = 0\n",
        "\n",
        "        for i in range(0, len(known_data), batch_size):\n",
        "            inputs = torch.from_numpy(known_data[i:i+batch_size]).float().to(device)\n",
        "            labels = torch.from_numpy(known_labels[i:i+batch_size]).long().to(device)\n",
        "            optimizer.zero_grad()\n",
        "            outputs = net(inputs)\n",
        "            loss = criterion(outputs, labels)\n",
        "            losses.append(loss)\n",
        "            loss.backward()\n",
        "            optimizer.step()\n",
        "            num_batches += 1\n",
        "\n",
        "    acc_without = evaluate_model(net, known_data_valid, known_labels_valid, device)\n",
        "    Acc_without.append(acc_without)\n",
        "    print(Acc_without)"
      ],
      "metadata": {
        "colab": {
          "base_uri": "https://localhost:8080/"
        },
        "id": "OBggRqPQUl6M",
        "outputId": "903a7604-7815-4c7a-9fe0-8f3772322420"
      },
      "execution_count": 42,
      "outputs": [
        {
          "output_type": "stream",
          "name": "stdout",
          "text": [
            "[97.6]\n",
            "[97.6, 95.46666666666667]\n",
            "[97.6, 95.46666666666667, 93.8]\n",
            "[97.6, 95.46666666666667, 93.8, 92.08]\n",
            "[97.6, 95.46666666666667, 93.8, 92.08, 88.86666666666666]\n",
            "[97.6, 95.46666666666667, 93.8, 92.08, 88.86666666666666, 86.34285714285714]\n",
            "[97.6, 95.46666666666667, 93.8, 92.08, 88.86666666666666, 86.34285714285714, 84.65]\n",
            "[97.6, 95.46666666666667, 93.8, 92.08, 88.86666666666666, 86.34285714285714, 84.65, 84.22222222222223]\n"
          ]
        }
      ]
    },
    {
      "cell_type": "code",
      "source": [
        "\n",
        "\n",
        "# Define the original list of classes\n",
        "classes = [0, 1, 2, 3, 4, 5, 6, 7, 8, 9]\n",
        "\n",
        "# Define a list to store the results\n",
        "Acc_with = []\n",
        "# Loop through the different combinations of class groupings\n",
        "for i in range(2, 10):\n",
        "    # Define the two arrays to hold the classes\n",
        "    known_classes = []\n",
        "    outlier_classes = []\n",
        "\n",
        "    # Randomly assign classes to the two arrays\n",
        "    for j in range(i):\n",
        "        known_classes.append(classes[j])\n",
        "    for j in range(i, 10):\n",
        "        outlier_classes.append(classes[j])\n",
        "\n",
        "\n",
        "\n",
        "\n",
        "    # Create a boolean mask to select the relevant samples\n",
        "    mask = np.isin(train_labels, known_classes)\n",
        "\n",
        "    # Select the relevant samples from the train_features and train_labels arrays\n",
        "\n",
        "    known_data = train_features[mask]\n",
        "    known_labels = train_labels[mask]\n",
        "\n",
        "\n",
        "    mask = np.isin(valid_labels, known_classes)\n",
        "\n",
        "    # Select the relevant samples from the valid_features and valid_labels arrays\n",
        "\n",
        "    known_data_valid = valid_features[mask]\n",
        "    known_labels_valid = valid_labels[mask]\n",
        "\n",
        "\n",
        "    # Train the network\n",
        "    input_dim = known_data.shape[1]\n",
        "    hidden_dim = 64\n",
        "    output_dim = len(known_classes)\n",
        "    lr = 1e-2\n",
        "    num_epochs = 10\n",
        "    batch_size = 128\n",
        "\n",
        "    net1 = Net(input_dim, hidden_dim, output_dim)\n",
        "    setatr(net1)\n",
        "    criterion = nn.CrossEntropyLoss()\n",
        "    optimizer = optim.Adam(net1.parameters(), lr=lr)\n",
        "    L = 0.1\n",
        "    losses = []\n",
        "\n",
        "    # Move the model and criterion to the GPU device\n",
        "    device = torch.device(\"cuda:0\" if torch.cuda.is_available() else \"cpu\")\n",
        "    net1.to(device)\n",
        "    criterion.to(device)\n",
        "\n",
        "    for epoch in range(num_epochs):\n",
        "      print(\"Epoch is {}\".format(epoch))\n",
        "      # Train the network\n",
        "      net1.train()\n",
        "      nusa_loss = 0.0\n",
        "      num_batches = 0\n",
        "\n",
        "      for i in range(0, len(known_data), batch_size):\n",
        "          inputs = torch.from_numpy(known_data[i:i+batch_size]).float().to(device)\n",
        "          labels = torch.from_numpy(known_labels[i:i+batch_size]).long().to(device)\n",
        "          optimizer.zero_grad()\n",
        "          outputs = net1(inputs)\n",
        "          arr=[]\n",
        "          # Compute nusa_loss for this batch\n",
        "          for name, module in net1.named_modules():\n",
        "              if isinstance(module, torch.nn.Linear):\n",
        "                  with torch.no_grad():\n",
        "                      xl = torch.tensor(module.input_tensor.tolist(), device=device)\n",
        "                      P = compute_proj(module.weight).to(device)\n",
        "                      projection = P.matmul(xl.t())\n",
        "                      norm_projection = torch.norm(projection)\n",
        "                      norm_xl = torch.norm(xl)\n",
        "                      nusa_loss = norm_projection / norm_xl\n",
        "                      arr.append(nusa_loss)\n",
        "\n",
        "          # Compute the total loss for this batch\n",
        "\n",
        "          loss = criterion(outputs, labels) + L * torch.tensor(arr).to(device).mean()\n",
        "\n",
        "          nusa_loss = 0.0\n",
        "          losses.append(loss)\n",
        "          loss.backward()\n",
        "          optimizer.step()\n",
        "          num_batches += 1\n",
        "    acc_with =  evaluate_model(net1,known_data_valid,known_labels_valid,device)\n",
        "    Acc_with.append(acc_with)\n",
        "    print(Acc_with)\n"
      ],
      "metadata": {
        "id": "x4QwtDnwgKOG",
        "colab": {
          "base_uri": "https://localhost:8080/"
        },
        "outputId": "c623ca37-4724-495a-d3db-5b38d72c1068"
      },
      "execution_count": 43,
      "outputs": [
        {
          "output_type": "stream",
          "name": "stdout",
          "text": [
            "Epoch is 0\n",
            "Epoch is 1\n",
            "Epoch is 2\n",
            "Epoch is 3\n",
            "Epoch is 4\n",
            "Epoch is 5\n",
            "Epoch is 6\n",
            "Epoch is 7\n",
            "Epoch is 8\n",
            "Epoch is 9\n",
            "[97.0]\n",
            "Epoch is 0\n",
            "Epoch is 1\n",
            "Epoch is 2\n",
            "Epoch is 3\n",
            "Epoch is 4\n",
            "Epoch is 5\n",
            "Epoch is 6\n",
            "Epoch is 7\n",
            "Epoch is 8\n",
            "Epoch is 9\n",
            "[97.0, 95.73333333333333]\n",
            "Epoch is 0\n",
            "Epoch is 1\n",
            "Epoch is 2\n",
            "Epoch is 3\n",
            "Epoch is 4\n",
            "Epoch is 5\n",
            "Epoch is 6\n",
            "Epoch is 7\n",
            "Epoch is 8\n",
            "Epoch is 9\n",
            "[97.0, 95.73333333333333, 93.4]\n",
            "Epoch is 0\n",
            "Epoch is 1\n",
            "Epoch is 2\n",
            "Epoch is 3\n",
            "Epoch is 4\n",
            "Epoch is 5\n",
            "Epoch is 6\n",
            "Epoch is 7\n",
            "Epoch is 8\n",
            "Epoch is 9\n",
            "[97.0, 95.73333333333333, 93.4, 91.68]\n",
            "Epoch is 0\n",
            "Epoch is 1\n",
            "Epoch is 2\n",
            "Epoch is 3\n",
            "Epoch is 4\n",
            "Epoch is 5\n",
            "Epoch is 6\n",
            "Epoch is 7\n",
            "Epoch is 8\n",
            "Epoch is 9\n",
            "[97.0, 95.73333333333333, 93.4, 91.68, 88.4]\n",
            "Epoch is 0\n",
            "Epoch is 1\n",
            "Epoch is 2\n",
            "Epoch is 3\n",
            "Epoch is 4\n",
            "Epoch is 5\n",
            "Epoch is 6\n",
            "Epoch is 7\n",
            "Epoch is 8\n",
            "Epoch is 9\n",
            "[97.0, 95.73333333333333, 93.4, 91.68, 88.4, 86.17142857142858]\n",
            "Epoch is 0\n",
            "Epoch is 1\n",
            "Epoch is 2\n",
            "Epoch is 3\n",
            "Epoch is 4\n",
            "Epoch is 5\n",
            "Epoch is 6\n",
            "Epoch is 7\n",
            "Epoch is 8\n",
            "Epoch is 9\n",
            "[97.0, 95.73333333333333, 93.4, 91.68, 88.4, 86.17142857142858, 85.25]\n",
            "Epoch is 0\n",
            "Epoch is 1\n",
            "Epoch is 2\n",
            "Epoch is 3\n",
            "Epoch is 4\n",
            "Epoch is 5\n",
            "Epoch is 6\n",
            "Epoch is 7\n",
            "Epoch is 8\n",
            "Epoch is 9\n",
            "[97.0, 95.73333333333333, 93.4, 91.68, 88.4, 86.17142857142858, 85.25, 84.44444444444444]\n"
          ]
        }
      ]
    },
    {
      "cell_type": "markdown",
      "source": [],
      "metadata": {
        "id": "9Wd8nnWwemtB"
      }
    },
    {
      "cell_type": "code",
      "source": [
        "import numpy as np\n",
        "import matplotlib.pyplot as plt\n",
        "\n",
        "# Define the number of known classes\n",
        "num_known_classes = np.arange(2, 10)\n",
        "\n",
        "# Define the width of each bar\n",
        "bar_width = 0.3\n",
        "\n",
        "# Plot the accuracy without Nusa\n",
        "plt.bar(num_known_classes + bar_width/2, Acc_without, width=bar_width, label='No Nusa')\n",
        "\n",
        "\n",
        "# Plot the accuracy with Nusa\n",
        "plt.bar(num_known_classes - bar_width/2, Acc_with, width=bar_width, label=' Nusa')\n",
        "\n",
        "\n",
        "\n",
        "# Add axis labels and title\n",
        "plt.xlabel('Number of known classes')\n",
        "plt.ylabel('Accuracy')\n",
        "plt.title('Accuracy comparison')\n",
        "\n",
        "# Add legend\n",
        "plt.legend()\n",
        "\n",
        "# Show the plot\n",
        "plt.show()"
      ],
      "metadata": {
        "id": "ImzbpFIx0HvU",
        "colab": {
          "base_uri": "https://localhost:8080/",
          "height": 472
        },
        "outputId": "17c43878-6f4f-460a-ca5e-c9badc576212"
      },
      "execution_count": 54,
      "outputs": [
        {
          "output_type": "display_data",
          "data": {
            "text/plain": [
              "<Figure size 640x480 with 1 Axes>"
            ],
            "image/png": "[encoded data removed]"
          },
          "metadata": {}
        }
      ]
    },
    {
      "cell_type": "code",
      "source": [
        "\n",
        "known_classes = [0,1,2,3,4]\n",
        "outlier_classes = [5,6,7,8,9]\n",
        "\n",
        "\n",
        "\n",
        "mask = np.isin(train_labels, known_classes)\n",
        "print(mask)\n",
        "\n",
        "# Select the relevant samples from the train_features and train_labels arrays\n",
        "\n",
        "known_data = train_features[mask]\n",
        "known_labels = train_labels[mask]\n",
        "print(known_labels)\n",
        "\n",
        "\n",
        "mask = np.isin(valid_labels, known_classes)\n",
        "\n",
        "# Select the relevant samples from the valid_features and valid_labels arrays\n",
        "\n",
        "known_data_valid = valid_features[mask]\n",
        "known_labels_valid = valid_labels[mask]\n",
        "\n",
        "\n",
        "\n",
        "\n",
        "\n",
        "outlier_indicators = []\n",
        "outlier_class_labels = []\n",
        "\n"
      ],
      "metadata": {
        "id": "ICghuixt7rl1",
        "colab": {
          "base_uri": "https://localhost:8080/"
        },
        "outputId": "6649cb74-04ea-4b6c-c622-7f480f458b0c"
      },
      "execution_count": 94,
      "outputs": [
        {
          "output_type": "stream",
          "name": "stdout",
          "text": [
            "[False False  True ...  True False False]\n",
            "[3 3 2 ... 2 2 4]\n"
          ]
        }
      ]
    },
    {
      "cell_type": "code",
      "source": [
        "# Train the network\n",
        "input_dim = known_data.shape[1]\n",
        "hidden_dim = 64\n",
        "output_dim = len(known_classes)\n",
        "lr = 1e-2\n",
        "batch_size=128\n",
        "num_epochs=100\n",
        "\n",
        "net1 = Net(input_dim, hidden_dim, output_dim)\n",
        "setatr(net1)\n",
        "criterion = nn.CrossEntropyLoss()\n",
        "optimizer = optim.Adam(net1.parameters(), lr=lr)\n",
        "\n",
        "train_losses = []\n",
        "val_losses = []\n",
        "\n",
        "losses = []\n",
        "nusa=[]\n",
        "\n"
      ],
      "metadata": {
        "id": "5ABmAL4V6Zun"
      },
      "execution_count": 139,
      "outputs": []
    },
    {
      "cell_type": "code",
      "source": [
        "device = torch.device(\"cuda:0\" if torch.cuda.is_available() else \"cpu\")\n",
        "net1.to(device)\n",
        "criterion = torch.nn.CrossEntropyLoss()\n",
        "optimizer = optim.Adam(net1.parameters(), lr=lr)\n",
        "L = 0.1\n",
        "\n",
        "for epoch in range(num_epochs):\n",
        "    print(\"Epoch is {}\".format(epoch))\n",
        "    # Train the network\n",
        "    net1.train()\n",
        "    nusa_loss = 0.0\n",
        "    num_batches = 0\n",
        "\n",
        "\n",
        "    for i in range(0, len(known_data), batch_size):\n",
        "        inputs = torch.from_numpy(known_data[i:i+batch_size]).float().to(device)\n",
        "        labels = torch.from_numpy(known_labels[i:i+batch_size]).long().to(device)\n",
        "        optimizer.zero_grad()\n",
        "        outputs = net1(inputs)\n",
        "        arr=[]\n",
        "        # Compute nusa_loss for this batch\n",
        "        for name, module in net1.named_modules():\n",
        "            if isinstance(module, torch.nn.Linear):\n",
        "                with torch.no_grad():\n",
        "                    xl = module.input_tensor.to(device)\n",
        "                    P = compute_proj(module.weight.to(device))\n",
        "                    projection = P.matmul(xl.t())\n",
        "                    norm_projection = torch.norm(projection)\n",
        "                    norm_xl = torch.norm(xl)\n",
        "                    nusa_loss = norm_projection / norm_xl\n",
        "                    arr.append(nusa_loss)\n",
        "\n",
        "        # Compute the total loss for this batch\n",
        "        loss = criterion(outputs, labels) + L * torch.tensor(arr).to(device).mean()\n",
        "        arr=[]\n",
        "        loss.backward()\n",
        "        optimizer.step()\n",
        "        num_batches += 1\n",
        ""
      ],
      "metadata": {
        "id": "ehVMFpCC_Zab",
        "colab": {
          "base_uri": "https://localhost:8080/"
        },
        "outputId": "42d2af9a-86bc-48e6-93fb-d12b92f2876b"
      },
      "execution_count": 140,
      "outputs": [
        {
          "output_type": "stream",
          "name": "stdout",
          "text": [
            "Epoch is 0\n",
            "Epoch is 1\n",
            "Epoch is 2\n",
            "Epoch is 3\n",
            "Epoch is 4\n",
            "Epoch is 5\n",
            "Epoch is 6\n",
            "Epoch is 7\n",
            "Epoch is 8\n",
            "Epoch is 9\n",
            "Epoch is 10\n",
            "Epoch is 11\n",
            "Epoch is 12\n",
            "Epoch is 13\n",
            "Epoch is 14\n",
            "Epoch is 15\n",
            "Epoch is 16\n",
            "Epoch is 17\n",
            "Epoch is 18\n",
            "Epoch is 19\n",
            "Epoch is 20\n",
            "Epoch is 21\n",
            "Epoch is 22\n",
            "Epoch is 23\n",
            "Epoch is 24\n",
            "Epoch is 25\n",
            "Epoch is 26\n",
            "Epoch is 27\n",
            "Epoch is 28\n",
            "Epoch is 29\n",
            "Epoch is 30\n",
            "Epoch is 31\n",
            "Epoch is 32\n",
            "Epoch is 33\n",
            "Epoch is 34\n",
            "Epoch is 35\n",
            "Epoch is 36\n",
            "Epoch is 37\n",
            "Epoch is 38\n",
            "Epoch is 39\n",
            "Epoch is 40\n",
            "Epoch is 41\n",
            "Epoch is 42\n",
            "Epoch is 43\n",
            "Epoch is 44\n",
            "Epoch is 45\n",
            "Epoch is 46\n",
            "Epoch is 47\n",
            "Epoch is 48\n",
            "Epoch is 49\n",
            "Epoch is 50\n",
            "Epoch is 51\n",
            "Epoch is 52\n",
            "Epoch is 53\n",
            "Epoch is 54\n",
            "Epoch is 55\n",
            "Epoch is 56\n",
            "Epoch is 57\n",
            "Epoch is 58\n",
            "Epoch is 59\n",
            "Epoch is 60\n",
            "Epoch is 61\n",
            "Epoch is 62\n",
            "Epoch is 63\n",
            "Epoch is 64\n",
            "Epoch is 65\n",
            "Epoch is 66\n",
            "Epoch is 67\n",
            "Epoch is 68\n",
            "Epoch is 69\n",
            "Epoch is 70\n",
            "Epoch is 71\n",
            "Epoch is 72\n",
            "Epoch is 73\n",
            "Epoch is 74\n",
            "Epoch is 75\n",
            "Epoch is 76\n",
            "Epoch is 77\n",
            "Epoch is 78\n",
            "Epoch is 79\n",
            "Epoch is 80\n",
            "Epoch is 81\n",
            "Epoch is 82\n",
            "Epoch is 83\n",
            "Epoch is 84\n",
            "Epoch is 85\n",
            "Epoch is 86\n",
            "Epoch is 87\n",
            "Epoch is 88\n",
            "Epoch is 89\n",
            "Epoch is 90\n",
            "Epoch is 91\n",
            "Epoch is 92\n",
            "Epoch is 93\n",
            "Epoch is 94\n",
            "Epoch is 95\n",
            "Epoch is 96\n",
            "Epoch is 97\n",
            "Epoch is 98\n",
            "Epoch is 99\n"
          ]
        }
      ]
    },
    {
      "cell_type": "code",
      "source": [
        "evaluate_model(net1,known_data_valid,known_labels_valid,device)"
      ],
      "metadata": {
        "id": "fEbmneT-jXgo",
        "colab": {
          "base_uri": "https://localhost:8080/"
        },
        "outputId": "326cc94c-9731-4d7a-a007-0dfba359dc9b"
      },
      "execution_count": 141,
      "outputs": [
        {
          "output_type": "execute_result",
          "data": {
            "text/plain": [
              "92.4"
            ]
          },
          "metadata": {},
          "execution_count": 141
        }
      ]
    },
    {
      "cell_type": "code",
      "source": [
        "array=[]\n",
        "array1=[]\n",
        "threshold=.8\n",
        "device = torch.device(\"cuda\" if torch.cuda.is_available() else \"cpu\")  # Check if GPU is available\n",
        "\n",
        "with torch.no_grad():\n",
        "  for i in range(len(valid_features)):\n",
        "    nusa = 0.0\n",
        "    sample = valid_features[i]\n",
        "    label = valid_labels[i]\n",
        "\n",
        "    # Forward pass through the network\n",
        "    inputs = torch.from_numpy(sample).unsqueeze(0).float().to(device)  # Move data to GPU\n",
        "    net1.to(device)  # Move model to GPU\n",
        "    outputs = net1(inputs)\n",
        "\n",
        "    # Compute NuSA for the sample\n",
        "    arr=[]\n",
        "    for index,(name, module) in enumerate(net1.named_modules()):\n",
        "\n",
        "                if isinstance(module, torch.nn.Linear):\n",
        "                  with torch.no_grad():\n",
        "                    xl = torch.tensor(module.input_tensor.tolist()).to(device)  # Move data to GPU\n",
        "                    P = compute_proj(module.weight)\n",
        "                    P=torch.matmul(P.t(),P)\n",
        "                    projection = torch.matmul(P,xl.t())\n",
        "                    norm_projection = torch.norm(projection)\n",
        "\n",
        "                    norm_xl = torch.norm(xl)\n",
        "                    nusa = norm_projection/norm_xl\n",
        "                    arr.append(nusa)\n",
        "    arr=[]\n",
        "    if( label  in known_classes):\n",
        "      array.append(nusa)\n",
        "    else:\n",
        "      array1.append(nusa)\n",
        "\n",
        "    # Check if the sample is an outlier based on NuSA and threshold\n",
        "    if nusa > threshold:\n",
        "        _, predicted_label = torch.max(outputs, 1)\n",
        "        outlier_indicators.append(0)  # Non-outlier\n",
        "        outlier_class_labels.append(predicted_label.item())\n",
        "    else:\n",
        "        outlier_indicators.append(1)  # Outlier\n",
        "        outlier_class_labels.append(None)\n"
      ],
      "metadata": {
        "id": "Yu0wF8Km_6Rp"
      },
      "execution_count": 165,
      "outputs": []
    },
    {
      "cell_type": "code",
      "source": [
        "print(\"NuSa for non-outliers\", torch.tensor(array).to(device).mean().item())\n",
        "print(\"NuSa for outliers\", torch.tensor(array1).to(device).mean().item())"
      ],
      "metadata": {
        "id": "_NS47ekQ2Gl6",
        "colab": {
          "base_uri": "https://localhost:8080/"
        },
        "outputId": "253cb724-8cbe-4cb4-88b3-e64c94f73b38"
      },
      "execution_count": 168,
      "outputs": [
        {
          "output_type": "stream",
          "name": "stdout",
          "text": [
            "NuSa for non-outliers 0.8002946376800537\n",
            "NuSa for outliers 0.7743954062461853\n"
          ]
        }
      ]
    }
  ],
  "metadata": {
    "accelerator": "GPU",
    "colab": {
      "provenance": [],
      "gpuType": "T4"
    },
    "kernelspec": {
      "display_name": "Python 3",
      "name": "python3"
    },
    "language_info": {
      "name": "python"
    }
  },
  "nbformat": 4,
  "nbformat_minor": 0
}